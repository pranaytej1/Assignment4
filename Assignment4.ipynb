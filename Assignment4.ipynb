{
  "nbformat": 4,
  "nbformat_minor": 0,
  "metadata": {
    "colab": {
      "provenance": []
    },
    "kernelspec": {
      "name": "python3",
      "display_name": "Python 3"
    },
    "language_info": {
      "name": "python"
    }
  },
  "cells": [
    {
      "cell_type": "code",
      "execution_count": 24,
      "metadata": {
        "colab": {
          "base_uri": "https://localhost:8080/"
        },
        "id": "j85VsyAH0uSY",
        "outputId": "349bcd85-621e-4330-8839-c5fc1bed7006"
      },
      "outputs": [
        {
          "output_type": "stream",
          "name": "stdout",
          "text": [
            "Drive already mounted at /drive; to attempt to forcibly remount, call drive.mount(\"/drive\", force_remount=True).\n",
            "         Duration       Pulse    Maxpulse     Calories\n",
            "count  169.000000  169.000000  169.000000   164.000000\n",
            "mean    63.846154  107.461538  134.047337   375.790244\n",
            "std     42.299949   14.510259   16.450434   266.379919\n",
            "min     15.000000   80.000000  100.000000    50.300000\n",
            "25%     45.000000  100.000000  124.000000   250.925000\n",
            "50%     60.000000  105.000000  131.000000   318.600000\n",
            "75%     60.000000  111.000000  141.000000   387.600000\n",
            "max    300.000000  159.000000  184.000000  1860.400000\n"
          ]
        }
      ],
      "source": [
        "import pandas as pd\n",
        "from google.colab import drive\n",
        "\n",
        "#Loading the data\n",
        "drive.mount('/drive')\n",
        "dataSet = pd.read_csv('/drive/MyDrive/data.csv')\n",
        "\n",
        "# Showing basic statistical description of the data\n",
        "print(dataSet.describe())\n"
      ]
    },
    {
      "cell_type": "code",
      "source": [
        "# Checking if the data has null values\n",
        "dataSet.isnull().any()"
      ],
      "metadata": {
        "colab": {
          "base_uri": "https://localhost:8080/"
        },
        "id": "aMuiMfgrQflN",
        "outputId": "ca1c16dc-cbda-441b-fc7f-5ad36ba88c45"
      },
      "execution_count": 27,
      "outputs": [
        {
          "output_type": "execute_result",
          "data": {
            "text/plain": [
              "Duration    False\n",
              "Pulse       False\n",
              "Maxpulse    False\n",
              "Calories     True\n",
              "dtype: bool"
            ]
          },
          "metadata": {},
          "execution_count": 27
        }
      ]
    },
    {
      "cell_type": "code",
      "source": [
        "# Replacing the null values with the mean\n",
        "dataSet.fillna(dataSet.mean(), inplace=True)\n",
        "dataSet.isnull().any()"
      ],
      "metadata": {
        "colab": {
          "base_uri": "https://localhost:8080/"
        },
        "id": "w3SMEqVwQgW6",
        "outputId": "65a9aa72-7ac0-4ca4-d36b-cf234c31d9f4"
      },
      "execution_count": 29,
      "outputs": [
        {
          "output_type": "execute_result",
          "data": {
            "text/plain": [
              "Duration    False\n",
              "Pulse       False\n",
              "Maxpulse    False\n",
              "Calories    False\n",
              "dtype: bool"
            ]
          },
          "metadata": {},
          "execution_count": 29
        }
      ]
    },
    {
      "cell_type": "code",
      "source": [
        "# Aggregating the data using min, max, count, and mean\n",
        "agg_dataSet = dataSet[['Duration', 'Calories']].agg(['min', 'max', 'count', 'mean'])\n",
        "print(agg_dataSet)"
      ],
      "metadata": {
        "colab": {
          "base_uri": "https://localhost:8080/"
        },
        "id": "mV5-TXGEQgcg",
        "outputId": "6a4774f3-a72b-431b-d3a7-489e1351e498"
      },
      "execution_count": 30,
      "outputs": [
        {
          "output_type": "stream",
          "name": "stdout",
          "text": [
            "         Duration     Calories\n",
            "min     15.000000    50.300000\n",
            "max    300.000000  1860.400000\n",
            "count  169.000000   169.000000\n",
            "mean    63.846154   375.790244\n"
          ]
        }
      ]
    },
    {
      "cell_type": "code",
      "source": [
        "# Filtering the dataframe to select rows with calories between 500 and 1000\n",
        "filtered_dataSet = dataSet[(dataSet['Calories'] >= 500) & (dataSet['Calories'] <= 1000)]\n",
        "print(filtered_dataSet)"
      ],
      "metadata": {
        "colab": {
          "base_uri": "https://localhost:8080/"
        },
        "id": "3Ss-GxImQgfV",
        "outputId": "83406f93-04ca-46dc-f520-9df8a84139d0"
      },
      "execution_count": 31,
      "outputs": [
        {
          "output_type": "stream",
          "name": "stdout",
          "text": [
            "     Duration  Pulse  Maxpulse  Calories\n",
            "51         80    123       146     643.1\n",
            "62        160    109       135     853.0\n",
            "65        180     90       130     800.4\n",
            "66        150    105       135     873.4\n",
            "67        150    107       130     816.0\n",
            "72         90    100       127     700.0\n",
            "73        150     97       127     953.2\n",
            "75         90     98       125     563.2\n",
            "78        120    100       130     500.4\n",
            "83        120    100       130     500.0\n",
            "90        180    101       127     600.1\n",
            "99         90     93       124     604.1\n",
            "101        90     90       110     500.0\n",
            "102        90     90       100     500.0\n",
            "103        90     90       100     500.4\n",
            "106       180     90       120     800.3\n",
            "108        90     90       120     500.3\n"
          ]
        }
      ]
    },
    {
      "cell_type": "code",
      "source": [
        "# Filtering the dataframe to select rows with calories > 500 and pulse < 100\n",
        "filtered_dataSet2 = dataSet[(dataSet['Calories'] > 500) & (dataSet['Pulse'] < 100)]\n",
        "print(filtered_dataSet2)"
      ],
      "metadata": {
        "colab": {
          "base_uri": "https://localhost:8080/"
        },
        "id": "ToPX67GgQgh-",
        "outputId": "a5bf2d92-c3c8-41f4-dd8f-fc6ed71469fe"
      },
      "execution_count": 32,
      "outputs": [
        {
          "output_type": "stream",
          "name": "stdout",
          "text": [
            "     Duration  Pulse  Maxpulse  Calories\n",
            "65        180     90       130     800.4\n",
            "70        150     97       129    1115.0\n",
            "73        150     97       127     953.2\n",
            "75         90     98       125     563.2\n",
            "99         90     93       124     604.1\n",
            "103        90     90       100     500.4\n",
            "106       180     90       120     800.3\n",
            "108        90     90       120     500.3\n"
          ]
        }
      ]
    },
    {
      "cell_type": "code",
      "source": [
        "# Creating a new df_modified dataframe without Maxpulse column\n",
        "dataSet_modified = dataSet.drop(columns=['Maxpulse'])\n",
        "\n",
        "# Printing  the created new dataframe\n",
        "print(dataSet_modified)"
      ],
      "metadata": {
        "colab": {
          "base_uri": "https://localhost:8080/"
        },
        "id": "P-yDof7bQgky",
        "outputId": "569828d2-be43-40a0-a8eb-ab4a6d1d6989"
      },
      "execution_count": 33,
      "outputs": [
        {
          "output_type": "stream",
          "name": "stdout",
          "text": [
            "     Duration  Pulse  Calories\n",
            "0          60    110     409.1\n",
            "1          60    117     479.0\n",
            "2          60    103     340.0\n",
            "3          45    109     282.4\n",
            "4          45    117     406.0\n",
            "..        ...    ...       ...\n",
            "164        60    105     290.8\n",
            "165        60    110     300.0\n",
            "166        60    115     310.2\n",
            "167        75    120     320.4\n",
            "168        75    125     330.4\n",
            "\n",
            "[169 rows x 3 columns]\n"
          ]
        }
      ]
    },
    {
      "cell_type": "code",
      "source": [
        "# Deleting Maxpulse column from the main dataframe\n",
        "dataSet.drop(columns=['Maxpulse'], inplace=True)\n",
        "print(dataSet)"
      ],
      "metadata": {
        "colab": {
          "base_uri": "https://localhost:8080/"
        },
        "id": "lfodYjmjQgnZ",
        "outputId": "afbc827e-ab1e-400e-e30a-e94c778162a9"
      },
      "execution_count": 34,
      "outputs": [
        {
          "output_type": "stream",
          "name": "stdout",
          "text": [
            "     Duration  Pulse  Calories\n",
            "0          60    110     409.1\n",
            "1          60    117     479.0\n",
            "2          60    103     340.0\n",
            "3          45    109     282.4\n",
            "4          45    117     406.0\n",
            "..        ...    ...       ...\n",
            "164        60    105     290.8\n",
            "165        60    110     300.0\n",
            "166        60    115     310.2\n",
            "167        75    120     320.4\n",
            "168        75    125     330.4\n",
            "\n",
            "[169 rows x 3 columns]\n"
          ]
        }
      ]
    },
    {
      "cell_type": "code",
      "source": [
        "# Converting datatype of Calories column to int\n",
        "dataSet['Calories'] = dataSet['Calories'].astype(int)\n",
        "dataSet.dtypes"
      ],
      "metadata": {
        "colab": {
          "base_uri": "https://localhost:8080/"
        },
        "id": "zEjGttNeQgqC",
        "outputId": "44e80c85-5053-48fe-a419-0d485f9ded44"
      },
      "execution_count": 37,
      "outputs": [
        {
          "output_type": "execute_result",
          "data": {
            "text/plain": [
              "Duration    int64\n",
              "Pulse       int64\n",
              "Calories    int64\n",
              "dtype: object"
            ]
          },
          "metadata": {},
          "execution_count": 37
        }
      ]
    },
    {
      "cell_type": "code",
      "source": [
        "# Creating scatter plot of Duration and Calories columns\n",
        "dataSet.plot.scatter(x='Duration', y='Calories')"
      ],
      "metadata": {
        "colab": {
          "base_uri": "https://localhost:8080/",
          "height": 523
        },
        "id": "WkSKG2FVQgss",
        "outputId": "1c162203-80f7-4aaa-d7a4-59d7a716eeb8"
      },
      "execution_count": 38,
      "outputs": [
        {
          "output_type": "stream",
          "name": "stderr",
          "text": [
            "/usr/local/lib/python3.9/dist-packages/pandas/plotting/_matplotlib/core.py:1114: UserWarning: No data for colormapping provided via 'c'. Parameters 'cmap' will be ignored\n",
            "  scatter = ax.scatter(\n"
          ]
        },
        {
          "output_type": "execute_result",
          "data": {
            "text/plain": [
              "<Axes: xlabel='Duration', ylabel='Calories'>"
            ]
          },
          "metadata": {},
          "execution_count": 38
        },
        {
          "output_type": "display_data",
          "data": {
            "text/plain": [
              "<Figure size 640x480 with 1 Axes>"
            ],
            "image/png": "[encoded data removed]"
          },
          "metadata": {}
        }
      ]
    },
    {
      "cell_type": "code",
      "source": [
        "#Titanic DataSet\n",
        "import pandas as pd\n",
        "import seaborn as sns\n",
        "import matplotlib.pyplot as plt\n",
        "\n",
        "# Loading the dataset\n",
        "titanic = pd.read_csv('/drive/MyDrive/train.csv')\n",
        "\n",
        "#Converting Sex type\n",
        "titanic['Sex'] = titanic['Sex'].replace([\"female\", \"male\"], [0, 1])\n",
        "\n",
        "# Finding the correlation between 'survived' and 'sex'\n",
        "corr = titanic['Survived'].corr(titanic['Sex'])\n",
        "\n",
        "# Printing the correlation coefficient\n",
        "print('Correlation between \"survived\" and \"sex\":', corr)\n",
        "\n",
        "#Count plot showing the survival count by sex\n",
        "sns.countplot(x='Survived', hue='Sex', data=titanic)\n",
        "plt.title('Survival count by sex')\n",
        "plt.show()\n",
        "\n",
        "# Point plot showing the survival rate by sex\n",
        "sns.pointplot(x='Sex', y='Survived', data=titanic)\n",
        "plt.title('Survival rate by sex')\n"
      ],
      "metadata": {
        "colab": {
          "base_uri": "https://localhost:8080/",
          "height": 963
        },
        "id": "TC-A9QzMDFf6",
        "outputId": "82d59ab6-1d7d-4df3-e292-2004a00c5457"
      },
      "execution_count": 39,
      "outputs": [
        {
          "output_type": "stream",
          "name": "stdout",
          "text": [
            "Correlation between \"survived\" and \"sex\": -0.5433513806577555\n"
          ]
        },
        {
          "output_type": "display_data",
          "data": {
            "text/plain": [
              "<Figure size 640x480 with 1 Axes>"
            ],
            "image/png": "[encoded data removed]"
          },
          "metadata": {}
        },
        {
          "output_type": "execute_result",
          "data": {
            "text/plain": [
              "Text(0.5, 1.0, 'Survival rate by sex')"
            ]
          },
          "metadata": {},
          "execution_count": 39
        },
        {
          "output_type": "display_data",
          "data": {
            "text/plain": [
              "<Figure size 640x480 with 1 Axes>"
            ],
            "image/png": "[encoded data removed]"
          },
          "metadata": {}
        }
      ]
    },
    {
      "cell_type": "code",
      "source": [
        "# Implementing the Naive's Bayes\n",
        "import pandas as pd\n",
        "from sklearn.naive_bayes import GaussianNB\n",
        "from sklearn.model_selection import train_test_split\n",
        "from sklearn.metrics import accuracy_score\n",
        "\n",
        "# Load Titanic dataset\n",
        "titanic = pd.read_csv('/drive/MyDrive/train.csv')\n",
        "\n",
        "# Prepare data\n",
        "X = titanic[['Sex', 'Age']]\n",
        "X['Sex'] = X['Sex'].map({'male': 0, 'female': 1})  # Convert 'sex' to binary\n",
        "X = X.fillna(X.mean())  # Replace missing values with mean\n",
        "y = titanic['Survived']\n",
        "\n",
        "# Split data into training and testing sets\n",
        "X_train, X_test, y_train, y_test = train_test_split(X, y, test_size=0.3, random_state=42)\n",
        "\n",
        "# Train Naive Bayes classifier\n",
        "gnb = GaussianNB()\n",
        "gnb.fit(X_train, y_train)\n",
        "\n",
        "# Make predictions on testing set\n",
        "y_pred = gnb.predict(X_test)\n",
        "\n",
        "# Calculate accuracy\n",
        "accuracy = accuracy_score(y_test, y_pred)\n",
        "print('Accuracy:', accuracy)\n"
      ],
      "metadata": {
        "colab": {
          "base_uri": "https://localhost:8080/"
        },
        "id": "f8o-mcOFPYNt",
        "outputId": "ba797370-6594-43aa-cf55-73acc07a69aa"
      },
      "execution_count": 19,
      "outputs": [
        {
          "output_type": "stream",
          "name": "stdout",
          "text": [
            "Accuracy: 0.7910447761194029\n"
          ]
        },
        {
          "output_type": "stream",
          "name": "stderr",
          "text": [
            "<ipython-input-19-7779b59f36af>:11: SettingWithCopyWarning: \n",
            "A value is trying to be set on a copy of a slice from a DataFrame.\n",
            "Try using .loc[row_indexer,col_indexer] = value instead\n",
            "\n",
            "See the caveats in the documentation: https://pandas.pydata.org/pandas-docs/stable/user_guide/indexing.html#returning-a-view-versus-a-copy\n",
            "  X['Sex'] = X['Sex'].map({'male': 0, 'female': 1})  # Convert 'sex' to binary\n"
          ]
        }
      ]
    },
    {
      "cell_type": "code",
      "source": [
        "#Glass DataSet\n",
        "import pandas as pd\n",
        "from sklearn.model_selection import train_test_split\n",
        "from sklearn.naive_bayes import GaussianNB\n",
        "from sklearn.svm import LinearSVC\n",
        "from sklearn.metrics import classification_report\n",
        "\n",
        "# Load the glass dataset using pandas\n",
        "glass = pd.read_csv(\"/drive/MyDrive/glass.csv\")\n",
        "\n",
        "# Extract the features and target variable\n",
        "X = glass.drop(\"Type\", axis=1).values\n",
        "y = glass[\"Type\"].values\n",
        "\n",
        "# Split the data into training and testing sets\n",
        "X_train, X_test, y_train, y_test = train_test_split(X, y, test_size=0.2, random_state=42)\n",
        "\n",
        "# Create a Gaussian Naive Bayes classifier\n",
        "clf_nb = GaussianNB()\n",
        "\n",
        "# Train the classifier on the training data\n",
        "clf_nb.fit(X_train, y_train)\n",
        "\n",
        "# Predict the class labels for the testing data\n",
        "y_pred_nb = clf_nb.predict(X_test)\n",
        "\n",
        "# Evaluate the classifier's performance on the testing data\n",
        "score_nb = clf_nb.score(X_test, y_test)\n",
        "print(\"Naive Bayes Accuracy:\", score_nb)\n",
        "\n",
        "report_nb = classification_report(y_test, y_pred_nb)\n",
        "print(report_nb)\n",
        "\n",
        "# Create a linear SVM classifier\n",
        "clf_svm = LinearSVC()\n",
        "\n",
        "# Train the classifier on the training data\n",
        "clf_svm.fit(X_train, y_train)\n",
        "\n",
        "# Predict the class labels for the testing data\n",
        "y_pred_svm = clf_svm.predict(X_test)\n",
        "\n",
        "# Evaluate the classifier's performance on the testing data\n",
        "score_svm = clf_svm.score(X_test, y_test)\n",
        "print(\"Linear SVM Accuracy:\", score_svm)\n",
        "\n",
        "report_svm = classification_report(y_test, y_pred_svm)\n",
        "print(report_svm)"
      ],
      "metadata": {
        "colab": {
          "base_uri": "https://localhost:8080/"
        },
        "id": "2-QOWB9NQMnE",
        "outputId": "20d633e4-dd43-4143-b00d-9221bb7ecb2a"
      },
      "execution_count": 20,
      "outputs": [
        {
          "output_type": "stream",
          "name": "stdout",
          "text": [
            "Naive Bayes Accuracy: 0.5581395348837209\n",
            "              precision    recall  f1-score   support\n",
            "\n",
            "           1       0.41      0.64      0.50        11\n",
            "           2       0.43      0.21      0.29        14\n",
            "           3       0.40      0.67      0.50         3\n",
            "           5       0.50      0.25      0.33         4\n",
            "           6       1.00      1.00      1.00         3\n",
            "           7       0.89      1.00      0.94         8\n",
            "\n",
            "    accuracy                           0.56        43\n",
            "   macro avg       0.60      0.63      0.59        43\n",
            "weighted avg       0.55      0.56      0.53        43\n",
            "\n",
            "Linear SVM Accuracy: 0.4186046511627907\n",
            "              precision    recall  f1-score   support\n",
            "\n",
            "           1       0.60      0.82      0.69        11\n",
            "           2       0.00      0.00      0.00        14\n",
            "           3       0.00      0.00      0.00         3\n",
            "           5       0.18      1.00      0.31         4\n",
            "           6       0.00      0.00      0.00         3\n",
            "           7       0.83      0.62      0.71         8\n",
            "\n",
            "    accuracy                           0.42        43\n",
            "   macro avg       0.27      0.41      0.29        43\n",
            "weighted avg       0.33      0.42      0.34        43\n",
            "\n"
          ]
        },
        {
          "output_type": "stream",
          "name": "stderr",
          "text": [
            "/usr/local/lib/python3.9/dist-packages/sklearn/svm/_base.py:1244: ConvergenceWarning: Liblinear failed to converge, increase the number of iterations.\n",
            "  warnings.warn(\n",
            "/usr/local/lib/python3.9/dist-packages/sklearn/metrics/_classification.py:1344: UndefinedMetricWarning: Precision and F-score are ill-defined and being set to 0.0 in labels with no predicted samples. Use `zero_division` parameter to control this behavior.\n",
            "  _warn_prf(average, modifier, msg_start, len(result))\n",
            "/usr/local/lib/python3.9/dist-packages/sklearn/metrics/_classification.py:1344: UndefinedMetricWarning: Precision and F-score are ill-defined and being set to 0.0 in labels with no predicted samples. Use `zero_division` parameter to control this behavior.\n",
            "  _warn_prf(average, modifier, msg_start, len(result))\n",
            "/usr/local/lib/python3.9/dist-packages/sklearn/metrics/_classification.py:1344: UndefinedMetricWarning: Precision and F-score are ill-defined and being set to 0.0 in labels with no predicted samples. Use `zero_division` parameter to control this behavior.\n",
            "  _warn_prf(average, modifier, msg_start, len(result))\n"
          ]
        }
      ]
    },
    {
      "cell_type": "code",
      "source": [
        "import seaborn as sns\n",
        "import matplotlib.pyplot as plt\n",
        "\n",
        "# Create a correlation matrix\n",
        "corr_matrix = glass.corr()\n",
        "\n",
        "# Plot the correlation matrix as a heatmap\n",
        "sns.heatmap(corr_matrix, cmap=\"YlGnBu\")\n",
        "\n",
        "plt.show()\n",
        "\n",
        "corr_matrix.style.background_gradient(cmap=\"Greens\")\n"
      ],
      "metadata": {
        "colab": {
          "base_uri": "https://localhost:8080/",
          "height": 781
        },
        "id": "ujhZU-0fQV39",
        "outputId": "b0960c8f-eb67-454e-c685-9951c7455770"
      },
      "execution_count": 21,
      "outputs": [
        {
          "output_type": "display_data",
          "data": {
            "text/plain": [
              "<Figure size 640x480 with 2 Axes>"
            ],
            "image/png": "[encoded data removed]"
          },
          "metadata": {}
        },
        {
          "output_type": "execute_result",
          "data": {
            "text/plain": [
              "<pandas.io.formats.style.Styler at 0x7fd3aff200d0>"
            ],
            "text/html": [
              "<style type=\"text/css\">\n",
              "#T_b69e7_row0_col0, #T_b69e7_row1_col1, #T_b69e7_row2_col2, #T_b69e7_row3_col3, #T_b69e7_row4_col4, #T_b69e7_row5_col5, #T_b69e7_row6_col6, #T_b69e7_row7_col7, #T_b69e7_row8_col8, #T_b69e7_row9_col9 {\n",
              "  background-color: #00441b;\n",
              "  color: #f1f1f1;\n",
              "}\n",
              "#T_b69e7_row0_col1 {\n",
              "  background-color: #eef8ea;\n",
              "  color: #000000;\n",
              "}\n",
              "#T_b69e7_row0_col2 {\n",
              "  background-color: #a7dba0;\n",
              "  color: #000000;\n",
              "}\n",
              "#T_b69e7_row0_col3 {\n",
              "  background-color: #f0f9ed;\n",
              "  color: #000000;\n",
              "}\n",
              "#T_b69e7_row0_col4, #T_b69e7_row1_col8, #T_b69e7_row2_col1, #T_b69e7_row2_col3, #T_b69e7_row2_col6, #T_b69e7_row2_col7, #T_b69e7_row2_col9, #T_b69e7_row4_col0, #T_b69e7_row6_col1, #T_b69e7_row6_col5, #T_b69e7_row9_col2 {\n",
              "  background-color: #f7fcf5;\n",
              "  color: #000000;\n",
              "}\n",
              "#T_b69e7_row0_col5 {\n",
              "  background-color: #f4fbf2;\n",
              "  color: #000000;\n",
              "}\n",
              "#T_b69e7_row0_col6 {\n",
              "  background-color: #016e2d;\n",
              "  color: #f1f1f1;\n",
              "}\n",
              "#T_b69e7_row0_col7, #T_b69e7_row4_col2 {\n",
              "  background-color: #afdfa8;\n",
              "  color: #000000;\n",
              "}\n",
              "#T_b69e7_row0_col8 {\n",
              "  background-color: #b5e1ae;\n",
              "  color: #000000;\n",
              "}\n",
              "#T_b69e7_row0_col9 {\n",
              "  background-color: #aedea7;\n",
              "  color: #000000;\n",
              "}\n",
              "#T_b69e7_row1_col0, #T_b69e7_row7_col6 {\n",
              "  background-color: #ccebc6;\n",
              "  color: #000000;\n",
              "}\n",
              "#T_b69e7_row1_col2, #T_b69e7_row2_col0 {\n",
              "  background-color: #c1e6ba;\n",
              "  color: #000000;\n",
              "}\n",
              "#T_b69e7_row1_col3, #T_b69e7_row5_col2 {\n",
              "  background-color: #8dd08a;\n",
              "  color: #000000;\n",
              "}\n",
              "#T_b69e7_row1_col4, #T_b69e7_row9_col6 {\n",
              "  background-color: #b6e2af;\n",
              "  color: #000000;\n",
              "}\n",
              "#T_b69e7_row1_col5, #T_b69e7_row9_col8 {\n",
              "  background-color: #f1faee;\n",
              "  color: #000000;\n",
              "}\n",
              "#T_b69e7_row1_col6 {\n",
              "  background-color: #e7f6e2;\n",
              "  color: #000000;\n",
              "}\n",
              "#T_b69e7_row1_col7 {\n",
              "  background-color: #60ba6c;\n",
              "  color: #f1f1f1;\n",
              "}\n",
              "#T_b69e7_row1_col9, #T_b69e7_row9_col7 {\n",
              "  background-color: #2b934b;\n",
              "  color: #f1f1f1;\n",
              "}\n",
              "#T_b69e7_row2_col4, #T_b69e7_row2_col5, #T_b69e7_row9_col0 {\n",
              "  background-color: #c9eac2;\n",
              "  color: #000000;\n",
              "}\n",
              "#T_b69e7_row2_col8, #T_b69e7_row4_col7 {\n",
              "  background-color: #c4e8bd;\n",
              "  color: #000000;\n",
              "}\n",
              "#T_b69e7_row3_col0, #T_b69e7_row5_col6 {\n",
              "  background-color: #ebf7e7;\n",
              "  color: #000000;\n",
              "}\n",
              "#T_b69e7_row3_col1 {\n",
              "  background-color: #acdea6;\n",
              "  color: #000000;\n",
              "}\n",
              "#T_b69e7_row3_col2, #T_b69e7_row6_col3 {\n",
              "  background-color: #dff3da;\n",
              "  color: #000000;\n",
              "}\n",
              "#T_b69e7_row3_col4, #T_b69e7_row7_col0 {\n",
              "  background-color: #a9dca3;\n",
              "  color: #000000;\n",
              "}\n",
              "#T_b69e7_row3_col5 {\n",
              "  background-color: #78c679;\n",
              "  color: #000000;\n",
              "}\n",
              "#T_b69e7_row3_col6 {\n",
              "  background-color: #e5f5e0;\n",
              "  color: #000000;\n",
              "}\n",
              "#T_b69e7_row3_col7, #T_b69e7_row7_col3 {\n",
              "  background-color: #3ba458;\n",
              "  color: #f1f1f1;\n",
              "}\n",
              "#T_b69e7_row3_col8 {\n",
              "  background-color: #e3f4de;\n",
              "  color: #000000;\n",
              "}\n",
              "#T_b69e7_row3_col9 {\n",
              "  background-color: #1d8640;\n",
              "  color: #f1f1f1;\n",
              "}\n",
              "#T_b69e7_row4_col1, #T_b69e7_row4_col6, #T_b69e7_row5_col0 {\n",
              "  background-color: #dcf2d7;\n",
              "  color: #000000;\n",
              "}\n",
              "#T_b69e7_row4_col3 {\n",
              "  background-color: #b1e0ab;\n",
              "  color: #000000;\n",
              "}\n",
              "#T_b69e7_row4_col5 {\n",
              "  background-color: #e9f7e5;\n",
              "  color: #000000;\n",
              "}\n",
              "#T_b69e7_row4_col8 {\n",
              "  background-color: #e6f5e1;\n",
              "  color: #000000;\n",
              "}\n",
              "#T_b69e7_row4_col9 {\n",
              "  background-color: #6ec173;\n",
              "  color: #000000;\n",
              "}\n",
              "#T_b69e7_row5_col1 {\n",
              "  background-color: #f6fcf4;\n",
              "  color: #000000;\n",
              "}\n",
              "#T_b69e7_row5_col3 {\n",
              "  background-color: #62bb6d;\n",
              "  color: #f1f1f1;\n",
              "}\n",
              "#T_b69e7_row5_col4 {\n",
              "  background-color: #cdecc7;\n",
              "  color: #000000;\n",
              "}\n",
              "#T_b69e7_row5_col7 {\n",
              "  background-color: #b7e2b1;\n",
              "  color: #000000;\n",
              "}\n",
              "#T_b69e7_row5_col8 {\n",
              "  background-color: #d6efd0;\n",
              "  color: #000000;\n",
              "}\n",
              "#T_b69e7_row5_col9 {\n",
              "  background-color: #91d28e;\n",
              "  color: #000000;\n",
              "}\n",
              "#T_b69e7_row6_col0 {\n",
              "  background-color: #006c2c;\n",
              "  color: #f1f1f1;\n",
              "}\n",
              "#T_b69e7_row6_col2 {\n",
              "  background-color: #daf0d4;\n",
              "  color: #000000;\n",
              "}\n",
              "#T_b69e7_row6_col4 {\n",
              "  background-color: #cfecc9;\n",
              "  color: #000000;\n",
              "}\n",
              "#T_b69e7_row6_col7 {\n",
              "  background-color: #c6e8bf;\n",
              "  color: #000000;\n",
              "}\n",
              "#T_b69e7_row6_col8 {\n",
              "  background-color: #bae3b3;\n",
              "  color: #000000;\n",
              "}\n",
              "#T_b69e7_row6_col9 {\n",
              "  background-color: #8ed08b;\n",
              "  color: #000000;\n",
              "}\n",
              "#T_b69e7_row7_col1 {\n",
              "  background-color: #7fc97f;\n",
              "  color: #000000;\n",
              "}\n",
              "#T_b69e7_row7_col2, #T_b69e7_row7_col8 {\n",
              "  background-color: #e0f3db;\n",
              "  color: #000000;\n",
              "}\n",
              "#T_b69e7_row7_col4 {\n",
              "  background-color: #bce4b5;\n",
              "  color: #000000;\n",
              "}\n",
              "#T_b69e7_row7_col5 {\n",
              "  background-color: #d1edcb;\n",
              "  color: #000000;\n",
              "}\n",
              "#T_b69e7_row7_col9 {\n",
              "  background-color: #218944;\n",
              "  color: #f1f1f1;\n",
              "}\n",
              "#T_b69e7_row8_col0 {\n",
              "  background-color: #88ce87;\n",
              "  color: #000000;\n",
              "}\n",
              "#T_b69e7_row8_col1 {\n",
              "  background-color: #f4fbf1;\n",
              "  color: #000000;\n",
              "}\n",
              "#T_b69e7_row8_col2 {\n",
              "  background-color: #7dc87e;\n",
              "  color: #000000;\n",
              "}\n",
              "#T_b69e7_row8_col3 {\n",
              "  background-color: #c0e6b9;\n",
              "  color: #000000;\n",
              "}\n",
              "#T_b69e7_row8_col4, #T_b69e7_row8_col7 {\n",
              "  background-color: #bbe4b4;\n",
              "  color: #000000;\n",
              "}\n",
              "#T_b69e7_row8_col5 {\n",
              "  background-color: #cbeac4;\n",
              "  color: #000000;\n",
              "}\n",
              "#T_b69e7_row8_col6 {\n",
              "  background-color: #9bd696;\n",
              "  color: #000000;\n",
              "}\n",
              "#T_b69e7_row8_col9 {\n",
              "  background-color: #b2e0ac;\n",
              "  color: #000000;\n",
              "}\n",
              "#T_b69e7_row9_col1 {\n",
              "  background-color: #46ae60;\n",
              "  color: #f1f1f1;\n",
              "}\n",
              "#T_b69e7_row9_col3 {\n",
              "  background-color: #289049;\n",
              "  color: #f1f1f1;\n",
              "}\n",
              "#T_b69e7_row9_col4 {\n",
              "  background-color: #86cc85;\n",
              "  color: #000000;\n",
              "}\n",
              "#T_b69e7_row9_col5 {\n",
              "  background-color: #cbebc5;\n",
              "  color: #000000;\n",
              "}\n",
              "</style>\n",
              "<table id=\"T_b69e7\" class=\"dataframe\">\n",
              "  <thead>\n",
              "    <tr>\n",
              "      <th class=\"blank level0\" >&nbsp;</th>\n",
              "      <th id=\"T_b69e7_level0_col0\" class=\"col_heading level0 col0\" >RI</th>\n",
              "      <th id=\"T_b69e7_level0_col1\" class=\"col_heading level0 col1\" >Na</th>\n",
              "      <th id=\"T_b69e7_level0_col2\" class=\"col_heading level0 col2\" >Mg</th>\n",
              "      <th id=\"T_b69e7_level0_col3\" class=\"col_heading level0 col3\" >Al</th>\n",
              "      <th id=\"T_b69e7_level0_col4\" class=\"col_heading level0 col4\" >Si</th>\n",
              "      <th id=\"T_b69e7_level0_col5\" class=\"col_heading level0 col5\" >K</th>\n",
              "      <th id=\"T_b69e7_level0_col6\" class=\"col_heading level0 col6\" >Ca</th>\n",
              "      <th id=\"T_b69e7_level0_col7\" class=\"col_heading level0 col7\" >Ba</th>\n",
              "      <th id=\"T_b69e7_level0_col8\" class=\"col_heading level0 col8\" >Fe</th>\n",
              "      <th id=\"T_b69e7_level0_col9\" class=\"col_heading level0 col9\" >Type</th>\n",
              "    </tr>\n",
              "  </thead>\n",
              "  <tbody>\n",
              "    <tr>\n",
              "      <th id=\"T_b69e7_level0_row0\" class=\"row_heading level0 row0\" >RI</th>\n",
              "      <td id=\"T_b69e7_row0_col0\" class=\"data row0 col0\" >1.000000</td>\n",
              "      <td id=\"T_b69e7_row0_col1\" class=\"data row0 col1\" >-0.191885</td>\n",
              "      <td id=\"T_b69e7_row0_col2\" class=\"data row0 col2\" >-0.122274</td>\n",
              "      <td id=\"T_b69e7_row0_col3\" class=\"data row0 col3\" >-0.407326</td>\n",
              "      <td id=\"T_b69e7_row0_col4\" class=\"data row0 col4\" >-0.542052</td>\n",
              "      <td id=\"T_b69e7_row0_col5\" class=\"data row0 col5\" >-0.289833</td>\n",
              "      <td id=\"T_b69e7_row0_col6\" class=\"data row0 col6\" >0.810403</td>\n",
              "      <td id=\"T_b69e7_row0_col7\" class=\"data row0 col7\" >-0.000386</td>\n",
              "      <td id=\"T_b69e7_row0_col8\" class=\"data row0 col8\" >0.143010</td>\n",
              "      <td id=\"T_b69e7_row0_col9\" class=\"data row0 col9\" >-0.164237</td>\n",
              "    </tr>\n",
              "    <tr>\n",
              "      <th id=\"T_b69e7_level0_row1\" class=\"row_heading level0 row1\" >Na</th>\n",
              "      <td id=\"T_b69e7_row1_col0\" class=\"data row1 col0\" >-0.191885</td>\n",
              "      <td id=\"T_b69e7_row1_col1\" class=\"data row1 col1\" >1.000000</td>\n",
              "      <td id=\"T_b69e7_row1_col2\" class=\"data row1 col2\" >-0.273732</td>\n",
              "      <td id=\"T_b69e7_row1_col3\" class=\"data row1 col3\" >0.156794</td>\n",
              "      <td id=\"T_b69e7_row1_col4\" class=\"data row1 col4\" >-0.069809</td>\n",
              "      <td id=\"T_b69e7_row1_col5\" class=\"data row1 col5\" >-0.266087</td>\n",
              "      <td id=\"T_b69e7_row1_col6\" class=\"data row1 col6\" >-0.275442</td>\n",
              "      <td id=\"T_b69e7_row1_col7\" class=\"data row1 col7\" >0.326603</td>\n",
              "      <td id=\"T_b69e7_row1_col8\" class=\"data row1 col8\" >-0.241346</td>\n",
              "      <td id=\"T_b69e7_row1_col9\" class=\"data row1 col9\" >0.502898</td>\n",
              "    </tr>\n",
              "    <tr>\n",
              "      <th id=\"T_b69e7_level0_row2\" class=\"row_heading level0 row2\" >Mg</th>\n",
              "      <td id=\"T_b69e7_row2_col0\" class=\"data row2 col0\" >-0.122274</td>\n",
              "      <td id=\"T_b69e7_row2_col1\" class=\"data row2 col1\" >-0.273732</td>\n",
              "      <td id=\"T_b69e7_row2_col2\" class=\"data row2 col2\" >1.000000</td>\n",
              "      <td id=\"T_b69e7_row2_col3\" class=\"data row2 col3\" >-0.481799</td>\n",
              "      <td id=\"T_b69e7_row2_col4\" class=\"data row2 col4\" >-0.165927</td>\n",
              "      <td id=\"T_b69e7_row2_col5\" class=\"data row2 col5\" >0.005396</td>\n",
              "      <td id=\"T_b69e7_row2_col6\" class=\"data row2 col6\" >-0.443750</td>\n",
              "      <td id=\"T_b69e7_row2_col7\" class=\"data row2 col7\" >-0.492262</td>\n",
              "      <td id=\"T_b69e7_row2_col8\" class=\"data row2 col8\" >0.083060</td>\n",
              "      <td id=\"T_b69e7_row2_col9\" class=\"data row2 col9\" >-0.744993</td>\n",
              "    </tr>\n",
              "    <tr>\n",
              "      <th id=\"T_b69e7_level0_row3\" class=\"row_heading level0 row3\" >Al</th>\n",
              "      <td id=\"T_b69e7_row3_col0\" class=\"data row3 col0\" >-0.407326</td>\n",
              "      <td id=\"T_b69e7_row3_col1\" class=\"data row3 col1\" >0.156794</td>\n",
              "      <td id=\"T_b69e7_row3_col2\" class=\"data row3 col2\" >-0.481799</td>\n",
              "      <td id=\"T_b69e7_row3_col3\" class=\"data row3 col3\" >1.000000</td>\n",
              "      <td id=\"T_b69e7_row3_col4\" class=\"data row3 col4\" >-0.005524</td>\n",
              "      <td id=\"T_b69e7_row3_col5\" class=\"data row3 col5\" >0.325958</td>\n",
              "      <td id=\"T_b69e7_row3_col6\" class=\"data row3 col6\" >-0.259592</td>\n",
              "      <td id=\"T_b69e7_row3_col7\" class=\"data row3 col7\" >0.479404</td>\n",
              "      <td id=\"T_b69e7_row3_col8\" class=\"data row3 col8\" >-0.074402</td>\n",
              "      <td id=\"T_b69e7_row3_col9\" class=\"data row3 col9\" >0.598829</td>\n",
              "    </tr>\n",
              "    <tr>\n",
              "      <th id=\"T_b69e7_level0_row4\" class=\"row_heading level0 row4\" >Si</th>\n",
              "      <td id=\"T_b69e7_row4_col0\" class=\"data row4 col0\" >-0.542052</td>\n",
              "      <td id=\"T_b69e7_row4_col1\" class=\"data row4 col1\" >-0.069809</td>\n",
              "      <td id=\"T_b69e7_row4_col2\" class=\"data row4 col2\" >-0.165927</td>\n",
              "      <td id=\"T_b69e7_row4_col3\" class=\"data row4 col3\" >-0.005524</td>\n",
              "      <td id=\"T_b69e7_row4_col4\" class=\"data row4 col4\" >1.000000</td>\n",
              "      <td id=\"T_b69e7_row4_col5\" class=\"data row4 col5\" >-0.193331</td>\n",
              "      <td id=\"T_b69e7_row4_col6\" class=\"data row4 col6\" >-0.208732</td>\n",
              "      <td id=\"T_b69e7_row4_col7\" class=\"data row4 col7\" >-0.102151</td>\n",
              "      <td id=\"T_b69e7_row4_col8\" class=\"data row4 col8\" >-0.094201</td>\n",
              "      <td id=\"T_b69e7_row4_col9\" class=\"data row4 col9\" >0.151565</td>\n",
              "    </tr>\n",
              "    <tr>\n",
              "      <th id=\"T_b69e7_level0_row5\" class=\"row_heading level0 row5\" >K</th>\n",
              "      <td id=\"T_b69e7_row5_col0\" class=\"data row5 col0\" >-0.289833</td>\n",
              "      <td id=\"T_b69e7_row5_col1\" class=\"data row5 col1\" >-0.266087</td>\n",
              "      <td id=\"T_b69e7_row5_col2\" class=\"data row5 col2\" >0.005396</td>\n",
              "      <td id=\"T_b69e7_row5_col3\" class=\"data row5 col3\" >0.325958</td>\n",
              "      <td id=\"T_b69e7_row5_col4\" class=\"data row5 col4\" >-0.193331</td>\n",
              "      <td id=\"T_b69e7_row5_col5\" class=\"data row5 col5\" >1.000000</td>\n",
              "      <td id=\"T_b69e7_row5_col6\" class=\"data row5 col6\" >-0.317836</td>\n",
              "      <td id=\"T_b69e7_row5_col7\" class=\"data row5 col7\" >-0.042618</td>\n",
              "      <td id=\"T_b69e7_row5_col8\" class=\"data row5 col8\" >-0.007719</td>\n",
              "      <td id=\"T_b69e7_row5_col9\" class=\"data row5 col9\" >-0.010054</td>\n",
              "    </tr>\n",
              "    <tr>\n",
              "      <th id=\"T_b69e7_level0_row6\" class=\"row_heading level0 row6\" >Ca</th>\n",
              "      <td id=\"T_b69e7_row6_col0\" class=\"data row6 col0\" >0.810403</td>\n",
              "      <td id=\"T_b69e7_row6_col1\" class=\"data row6 col1\" >-0.275442</td>\n",
              "      <td id=\"T_b69e7_row6_col2\" class=\"data row6 col2\" >-0.443750</td>\n",
              "      <td id=\"T_b69e7_row6_col3\" class=\"data row6 col3\" >-0.259592</td>\n",
              "      <td id=\"T_b69e7_row6_col4\" class=\"data row6 col4\" >-0.208732</td>\n",
              "      <td id=\"T_b69e7_row6_col5\" class=\"data row6 col5\" >-0.317836</td>\n",
              "      <td id=\"T_b69e7_row6_col6\" class=\"data row6 col6\" >1.000000</td>\n",
              "      <td id=\"T_b69e7_row6_col7\" class=\"data row6 col7\" >-0.112841</td>\n",
              "      <td id=\"T_b69e7_row6_col8\" class=\"data row6 col8\" >0.124968</td>\n",
              "      <td id=\"T_b69e7_row6_col9\" class=\"data row6 col9\" >0.000952</td>\n",
              "    </tr>\n",
              "    <tr>\n",
              "      <th id=\"T_b69e7_level0_row7\" class=\"row_heading level0 row7\" >Ba</th>\n",
              "      <td id=\"T_b69e7_row7_col0\" class=\"data row7 col0\" >-0.000386</td>\n",
              "      <td id=\"T_b69e7_row7_col1\" class=\"data row7 col1\" >0.326603</td>\n",
              "      <td id=\"T_b69e7_row7_col2\" class=\"data row7 col2\" >-0.492262</td>\n",
              "      <td id=\"T_b69e7_row7_col3\" class=\"data row7 col3\" >0.479404</td>\n",
              "      <td id=\"T_b69e7_row7_col4\" class=\"data row7 col4\" >-0.102151</td>\n",
              "      <td id=\"T_b69e7_row7_col5\" class=\"data row7 col5\" >-0.042618</td>\n",
              "      <td id=\"T_b69e7_row7_col6\" class=\"data row7 col6\" >-0.112841</td>\n",
              "      <td id=\"T_b69e7_row7_col7\" class=\"data row7 col7\" >1.000000</td>\n",
              "      <td id=\"T_b69e7_row7_col8\" class=\"data row7 col8\" >-0.058692</td>\n",
              "      <td id=\"T_b69e7_row7_col9\" class=\"data row7 col9\" >0.575161</td>\n",
              "    </tr>\n",
              "    <tr>\n",
              "      <th id=\"T_b69e7_level0_row8\" class=\"row_heading level0 row8\" >Fe</th>\n",
              "      <td id=\"T_b69e7_row8_col0\" class=\"data row8 col0\" >0.143010</td>\n",
              "      <td id=\"T_b69e7_row8_col1\" class=\"data row8 col1\" >-0.241346</td>\n",
              "      <td id=\"T_b69e7_row8_col2\" class=\"data row8 col2\" >0.083060</td>\n",
              "      <td id=\"T_b69e7_row8_col3\" class=\"data row8 col3\" >-0.074402</td>\n",
              "      <td id=\"T_b69e7_row8_col4\" class=\"data row8 col4\" >-0.094201</td>\n",
              "      <td id=\"T_b69e7_row8_col5\" class=\"data row8 col5\" >-0.007719</td>\n",
              "      <td id=\"T_b69e7_row8_col6\" class=\"data row8 col6\" >0.124968</td>\n",
              "      <td id=\"T_b69e7_row8_col7\" class=\"data row8 col7\" >-0.058692</td>\n",
              "      <td id=\"T_b69e7_row8_col8\" class=\"data row8 col8\" >1.000000</td>\n",
              "      <td id=\"T_b69e7_row8_col9\" class=\"data row8 col9\" >-0.188278</td>\n",
              "    </tr>\n",
              "    <tr>\n",
              "      <th id=\"T_b69e7_level0_row9\" class=\"row_heading level0 row9\" >Type</th>\n",
              "      <td id=\"T_b69e7_row9_col0\" class=\"data row9 col0\" >-0.164237</td>\n",
              "      <td id=\"T_b69e7_row9_col1\" class=\"data row9 col1\" >0.502898</td>\n",
              "      <td id=\"T_b69e7_row9_col2\" class=\"data row9 col2\" >-0.744993</td>\n",
              "      <td id=\"T_b69e7_row9_col3\" class=\"data row9 col3\" >0.598829</td>\n",
              "      <td id=\"T_b69e7_row9_col4\" class=\"data row9 col4\" >0.151565</td>\n",
              "      <td id=\"T_b69e7_row9_col5\" class=\"data row9 col5\" >-0.010054</td>\n",
              "      <td id=\"T_b69e7_row9_col6\" class=\"data row9 col6\" >0.000952</td>\n",
              "      <td id=\"T_b69e7_row9_col7\" class=\"data row9 col7\" >0.575161</td>\n",
              "      <td id=\"T_b69e7_row9_col8\" class=\"data row9 col8\" >-0.188278</td>\n",
              "      <td id=\"T_b69e7_row9_col9\" class=\"data row9 col9\" >1.000000</td>\n",
              "    </tr>\n",
              "  </tbody>\n",
              "</table>\n"
            ]
          },
          "metadata": {},
          "execution_count": 21
        }
      ]
    }
  ]
}